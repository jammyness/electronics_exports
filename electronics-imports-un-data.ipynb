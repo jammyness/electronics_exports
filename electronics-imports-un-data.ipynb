{
 "cells": [
  {
   "cell_type": "code",
   "execution_count": 1,
   "metadata": {
    "_cell_guid": "b1076dfc-b9ad-4769-8c92-a6c4dae69d19",
    "_uuid": "8f2839f25d086af736a60e9eeb907d3b93b6e0e5"
   },
   "outputs": [
    {
     "name": "stdout",
     "output_type": "stream",
     "text": [
      "Setup Complete\n",
      "/kaggle/input/electronics-un-data/UNdata_Export_20200316_170720823.csv\n"
     ]
    }
   ],
   "source": [
    "# This is a notebook used to explore some UN Data on electronics imports over time.\n",
    "# The source of the data is here: http://data.un.org/Data.aspx?d=ComTrade&f=_l1Code%3a85 It was filtered down to China, USA, Singapore,\n",
    "# Korea and Japan before being downloaded\n",
    "# Data was extracted on March 16, 2020\n",
    "# The goal is to create a graph showing the growth in Chinese electronics exports over time\n",
    "\n",
    "import numpy as np # linear algebra\n",
    "import pandas as pd # data processing, CSV file I/O (e.g. pd.read_csv)\n",
    "pd.plotting.register_matplotlib_converters()\n",
    "import matplotlib.pyplot as plt\n",
    "%matplotlib inline\n",
    "import seaborn as sns\n",
    "print(\"Setup Complete\")\n",
    "\n",
    "# Input data files are available in the \"../input/\" directory.\n",
    "# For example, running this (by clicking run or pressing Shift+Enter) will list all files under the input directory\n",
    "\n",
    "import os\n",
    "for dirname, _, filenames in os.walk('/kaggle/input'):\n",
    "    for filename in filenames:\n",
    "        print(os.path.join(dirname, filename))\n",
    "\n",
    "# Any results you write to the current directory are saved as output.\n",
    "\n"
   ]
  },
  {
   "cell_type": "code",
   "execution_count": 2,
   "metadata": {
    "_cell_guid": "79c7e3d0-c299-4dcb-8224-4455121ee9b0",
    "_uuid": "d629ff2d2480ee46fbb7e2d37f6b5fab8052498a"
   },
   "outputs": [
    {
     "name": "stdout",
     "output_type": "stream",
     "text": [
      "  Country or Area  Year                                         Commodity  \\\n",
      "0           China  2018         Electric motors of an output < 37.5 watts   \n",
      "1           China  2018         Electric motors of an output < 37.5 watts   \n",
      "2           China  2018         Electric motors of an output < 37.5 watts   \n",
      "3           China  2018  Universal AC/DC motors of an output < 37.5 watts   \n",
      "4           China  2018  Universal AC/DC motors of an output < 37.5 watts   \n",
      "\n",
      "        Flow   Trade (USD)   Weight (kg)    Quantity Name      Quantity  \n",
      "0     Import  1.598485e+09  4.547870e+07  Number of items  1.005370e+09  \n",
      "1     Export  3.084423e+09  6.046260e+07  Number of items  2.032123e+09  \n",
      "2  Re-Import  3.599630e+08  1.024135e+07  Number of items  4.437284e+08  \n",
      "3     Import  5.212861e+06           NaN  Number of items  3.233570e+05  \n",
      "4     Export  1.495775e+08           NaN  Number of items  2.056176e+07  \n"
     ]
    }
   ],
   "source": [
    "# Import Data\n",
    "trade_data = pd.read_csv(\"../input/electronics-un-data/UNdata_Export_20200316_170720823.csv\")\n",
    "print(trade_data.head())"
   ]
  },
  {
   "cell_type": "code",
   "execution_count": 3,
   "metadata": {},
   "outputs": [
    {
     "name": "stdout",
     "output_type": "stream",
     "text": [
      "['China' 'Japan' 'Rep. of Korea' 'Singapore' 'USA']\n",
      "[2018 2017 2016 2015 2014 2013 2012 2011 2010 2009 2008 2007 2006 2005\n",
      " 2004 2003 2002 2001 2000 1999 1998 1997 1996 1995 1994 1993 1992 2019\n",
      " 1991 1990 1989 1988]\n"
     ]
    }
   ],
   "source": [
    "# Check the Countries that are here\n",
    "country_list = trade_data['Country or Area'].unique()\n",
    "print(country_list)\n",
    "# Check the year range\n",
    "year_list = trade_data['Year'].unique()\n",
    "print(year_list)"
   ]
  },
  {
   "cell_type": "code",
   "execution_count": 4,
   "metadata": {},
   "outputs": [
    {
     "name": "stdout",
     "output_type": "stream",
     "text": [
      "  Country  Year                                         Commodity       Flow  \\\n",
      "0   China  2018         Electric motors of an output < 37.5 watts     Import   \n",
      "1   China  2018         Electric motors of an output < 37.5 watts     Export   \n",
      "2   China  2018         Electric motors of an output < 37.5 watts  Re-Import   \n",
      "3   China  2018  Universal AC/DC motors of an output < 37.5 watts     Import   \n",
      "4   China  2018  Universal AC/DC motors of an output < 37.5 watts     Export   \n",
      "\n",
      "    Trade (USD)  \n",
      "0  1.598485e+09  \n",
      "1  3.084423e+09  \n",
      "2  3.599630e+08  \n",
      "3  5.212861e+06  \n",
      "4  1.495775e+08  \n"
     ]
    }
   ],
   "source": [
    "# Cleanup...\n",
    "# Drop Quantity Name, Quantity\n",
    "trade_data = trade_data.drop(columns=['Weight (kg)','Quantity Name','Quantity'])\n",
    "\n",
    "# Rename 'Country or Area' to Country\n",
    "trade_data = trade_data.rename(columns={\"Country or Area\":\"Country\"})\n",
    "\n",
    "print(trade_data.head())\n",
    "\n",
    "\n"
   ]
  },
  {
   "cell_type": "code",
   "execution_count": 5,
   "metadata": {},
   "outputs": [
    {
     "name": "stdout",
     "output_type": "stream",
     "text": [
      "  Country  Year                                         Commodity       Flow  \\\n",
      "0   China  2018         Electric motors of an output < 37.5 watts     Import   \n",
      "1   China  2018         Electric motors of an output < 37.5 watts     Export   \n",
      "2   China  2018         Electric motors of an output < 37.5 watts  Re-Import   \n",
      "3   China  2018  Universal AC/DC motors of an output < 37.5 watts     Import   \n",
      "4   China  2018  Universal AC/DC motors of an output < 37.5 watts     Export   \n",
      "\n",
      "    Trade (USD)  \n",
      "0  1.598485e+09  \n",
      "1  3.084423e+09  \n",
      "2  3.599630e+08  \n",
      "3  5.212861e+06  \n",
      "4  1.495775e+08  \n"
     ]
    }
   ],
   "source": [
    "# Rename 'Rep. of Korea' to 'Korea'\n",
    "\n",
    "trade_data_clean = trade_data.replace(to_replace = \"Rep. of Korea\", value=\"Korea\", regex = True)\n",
    "country_list2 = trade_data_clean['Country'].unique()\n",
    "#print(country_list2)\n",
    "#success!\n",
    "\n",
    "print(trade_data_clean.head())\n"
   ]
  },
  {
   "cell_type": "code",
   "execution_count": 6,
   "metadata": {},
   "outputs": [
    {
     "name": "stdout",
     "output_type": "stream",
     "text": [
      "   Country  Year                                          Commodity    Flow  \\\n",
      "1    China  2018          Electric motors of an output < 37.5 watts  Export   \n",
      "4    China  2018   Universal AC/DC motors of an output < 37.5 watts  Export   \n",
      "7    China  2018  DC motors, DC generators, of an output < 750 w...  Export   \n",
      "10   China  2018  DC motors, DC generators, of an output 0.75-75 kW  Export   \n",
      "12   China  2018   DC motors, DC generators, of an output 75-375 kW  Export   \n",
      "\n",
      "     Trade (USD)  \n",
      "1   3.084423e+09  \n",
      "4   1.495775e+08  \n",
      "7   2.583207e+09  \n",
      "10  4.428804e+08  \n",
      "12  1.637172e+07  \n"
     ]
    }
   ],
   "source": [
    "# Filter down to only Exports\n",
    "export_bool = trade_data_clean['Flow']=='Export'\n",
    "#print(export_bool)\n",
    "\n",
    "trade_exports = trade_data_clean[export_bool]\n",
    "print(trade_exports.head())"
   ]
  },
  {
   "cell_type": "code",
   "execution_count": 7,
   "metadata": {},
   "outputs": [
    {
     "name": "stdout",
     "output_type": "stream",
     "text": [
      "   Country  Year   Trade (USD)\n",
      "1    China  2018  3.084423e+09\n",
      "4    China  2018  1.495775e+08\n",
      "7    China  2018  2.583207e+09\n",
      "10   China  2018  4.428804e+08\n",
      "12   China  2018  1.637172e+07\n"
     ]
    }
   ],
   "source": [
    "# Now we want to aggregate ... Each country, each year, total of Trade (USD). Commodity doesn't really matter. \n",
    "# Drop Commodity, Drop Flow\n",
    "\n",
    "agg_data = trade_exports.drop(columns=['Commodity','Flow'])\n",
    "print(agg_data.head())\n"
   ]
  },
  {
   "cell_type": "code",
   "execution_count": 8,
   "metadata": {},
   "outputs": [
    {
     "name": "stdout",
     "output_type": "stream",
     "text": [
      "               Trade (USD)\n",
      "Country Year              \n",
      "China   1992  8.175385e+09\n",
      "        1993  9.695747e+09\n",
      "        1994  1.411139e+10\n",
      "        1995  1.895737e+10\n",
      "        1996  2.016835e+10\n",
      "...                    ...\n",
      "USA     2014  1.717456e+11\n",
      "        2015  1.693914e+11\n",
      "        2016  1.665356e+11\n",
      "        2017  1.731200e+11\n",
      "        2018  1.750501e+11\n",
      "\n",
      "[148 rows x 1 columns]\n"
     ]
    }
   ],
   "source": [
    "#Starting groupbys\n",
    "\n",
    "sum_data = agg_data.groupby(['Country','Year']).sum()\n",
    "print(sum_data)"
   ]
  },
  {
   "cell_type": "code",
   "execution_count": 9,
   "metadata": {},
   "outputs": [
    {
     "name": "stdout",
     "output_type": "stream",
     "text": [
      "             China         Japan   South Korea     Singapore           USA\n",
      "Year                                                                      \n",
      "1992  8.175385e+09  7.477582e+10  1.787889e+10  1.661283e+10  5.416305e+10\n",
      "1993  9.695747e+09  8.114570e+10  2.000789e+10  2.057651e+10  6.236828e+10\n",
      "1994  1.411139e+10  9.315523e+10  2.692829e+10  3.175537e+10  7.539545e+10\n",
      "1995  1.895737e+10  1.085142e+11  3.807492e+10  4.034887e+10  9.186628e+10\n",
      "1996  2.016835e+10  9.518237e+10  3.508478e+10  4.060300e+10  9.731071e+10\n"
     ]
    }
   ],
   "source": [
    "# Sorting this multi-index into individual frames for graphing\n",
    "#['China' 'Japan' 'Rep. of Korea' 'Singapore' 'USA']\n",
    "china_data = sum_data.loc['China']\n",
    "china_data = china_data.rename(columns={\"Trade (USD)\":\"China\"})\n",
    "#print(china_data.head())\n",
    "\n",
    "japan_data = sum_data.loc['Japan']\n",
    "japan_data = japan_data.rename(columns={\"Trade (USD)\":\"Japan\"})\n",
    "#print(japan_data.head())\n",
    "\n",
    "korea_data = sum_data.loc['Korea']\n",
    "korea_data = korea_data.rename(columns={\"Trade (USD)\":\"South Korea\"})\n",
    "#print(korea_data.head())\n",
    "\n",
    "singapore_data = sum_data.loc['Singapore']\n",
    "singapore_data = singapore_data.rename(columns={\"Trade (USD)\":\"Singapore\"})\n",
    "#print(singapore_data.head())\n",
    "\n",
    "usa_data = sum_data.loc['USA']\n",
    "usa_data = usa_data.rename(columns={\"Trade (USD)\":\"USA\"})\n",
    "#print(usa_data.head())\n",
    "\n",
    "total_elec_data = china_data\n",
    "total_elec_data = total_elec_data.join(japan_data)\n",
    "total_elec_data = total_elec_data.join(korea_data)\n",
    "total_elec_data = total_elec_data.join(singapore_data)\n",
    "total_elec_data = total_elec_data.join(usa_data)\n",
    "\n",
    "print(total_elec_data.head())\n"
   ]
  },
  {
   "cell_type": "code",
   "execution_count": 10,
   "metadata": {},
   "outputs": [],
   "source": [
    "total_elec_data_bil = total_elec_data / 1000000000"
   ]
  },
  {
   "cell_type": "code",
   "execution_count": 11,
   "metadata": {},
   "outputs": [
    {
     "data": {
      "text/plain": [
       "<matplotlib.axes._subplots.AxesSubplot at 0x7f07e2a77400>"
      ]
     },
     "execution_count": 11,
     "metadata": {},
     "output_type": "execute_result"
    },
    {
     "data": {
      "image/png": "[encoded data removed]",
      "text/plain": [
       "<Figure size 1008x432 with 1 Axes>"
      ]
     },
     "metadata": {
      "needs_background": "light"
     },
     "output_type": "display_data"
    }
   ],
   "source": [
    "plt.figure(figsize=(14,6))\n",
    "plt.title(\"Electronics Exports by Year\")\n",
    "plt.legend() #force the legend to appear. Label = in the graphing command is what sets the value in the legend.\n",
    "plt.xlabel(\"Year\")\n",
    "plt.ylabel(\"Trade ($Billion USD)\")\n",
    "plt.ticklabel_format(style='plain', axis='y')\n",
    "sns.lineplot(data=total_elec_data_bil)\n",
    "\n",
    "#Try this next http://greg-ashton.physics.monash.edu/setting-nice-axes-labels-in-matplotlib.html\n"
   ]
  }
 ],
 "metadata": {
  "kernelspec": {
   "display_name": "Python 3",
   "language": "python",
   "name": "python3"
  },
  "language_info": {
   "codemirror_mode": {
    "name": "ipython",
    "version": 3
   },
   "file_extension": ".py",
   "mimetype": "text/x-python",
   "name": "python",
   "nbconvert_exporter": "python",
   "pygments_lexer": "ipython3",
   "version": "3.6.6"
  }
 },
 "nbformat": 4,
 "nbformat_minor": 4
}
